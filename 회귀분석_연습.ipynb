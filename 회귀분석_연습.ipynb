{
  "nbformat": 4,
  "nbformat_minor": 0,
  "metadata": {
    "colab": {
      "name": "회귀분석 연습.ipynb",
      "provenance": [],
      "authorship_tag": "ABX9TyN3tm+B1yQ1r8/jJCUv1GgX",
      "include_colab_link": true
    },
    "kernelspec": {
      "name": "python3",
      "display_name": "Python 3"
    },
    "language_info": {
      "name": "python"
    }
  },
  "cells": [
    {
      "cell_type": "markdown",
      "metadata": {
        "id": "view-in-github",
        "colab_type": "text"
      },
      "source": [
        "<a href=\"https://colab.research.google.com/github/MJSUMD/class2022Spring/blob/main/%ED%9A%8C%EA%B7%80%EB%B6%84%EC%84%9D_%EC%97%B0%EC%8A%B5.ipynb\" target=\"_parent\"><img src=\"https://colab.research.google.com/assets/colab-badge.svg\" alt=\"Open In Colab\"/></a>"
      ]
    },
    {
      "cell_type": "code",
      "execution_count": 123,
      "metadata": {
        "colab": {
          "base_uri": "https://localhost:8080/",
          "height": 1000
        },
        "id": "rhTvC9YHf_hj",
        "outputId": "59cf99cd-0916-4185-d6f5-8e2d7518324d"
      },
      "outputs": [
        {
          "output_type": "execute_result",
          "data": {
            "text/plain": [
              "    STRLV  SENLV  WORKLV\n",
              "0   2.231  1.652   4.625\n",
              "1   2.837  2.007   4.213\n",
              "2   3.611  1.923   4.211\n",
              "3   3.966  1.876   4.096\n",
              "4   0.869  0.636   3.838\n",
              "5   3.127  0.918   3.626\n",
              "6   1.116  0.716   3.427\n",
              "7   4.089  1.983   3.331\n",
              "8   4.556  2.433   2.963\n",
              "9   3.321  2.507   3.031\n",
              "10  6.772  3.129   2.859\n",
              "11  5.931  3.688   2.633\n",
              "12  3.771  2.015   2.939\n",
              "13  5.394  3.533   3.813\n",
              "14  2.763  2.001   3.763\n",
              "15  3.868  1.979   3.669\n",
              "16  1.715  1.769   3.781\n",
              "17  2.488  2.131   3.222\n",
              "18  1.667  0.896   3.386\n",
              "19  1.113  1.153   3.552\n",
              "20  4.092  2.388   3.631\n",
              "21  2.078  2.076   3.278\n",
              "22  3.033  2.438   3.121\n",
              "23  3.431  1.767   3.645\n",
              "24  3.778  2.884   3.709\n",
              "25  5.314  3.612   3.559\n",
              "26  6.833  3.978   3.229\n",
              "27  4.782  2.834   2.073\n",
              "28  0.436  1.221   1.733\n",
              "29  1.597  1.332   1.633\n",
              "30  1.631  1.443   1.434"
            ],
            "text/html": [
              "\n",
              "  <div id=\"df-6f18e6f8-18be-4f62-88b2-9e927105b992\">\n",
              "    <div class=\"colab-df-container\">\n",
              "      <div>\n",
              "<style scoped>\n",
              "    .dataframe tbody tr th:only-of-type {\n",
              "        vertical-align: middle;\n",
              "    }\n",
              "\n",
              "    .dataframe tbody tr th {\n",
              "        vertical-align: top;\n",
              "    }\n",
              "\n",
              "    .dataframe thead th {\n",
              "        text-align: right;\n",
              "    }\n",
              "</style>\n",
              "<table border=\"1\" class=\"dataframe\">\n",
              "  <thead>\n",
              "    <tr style=\"text-align: right;\">\n",
              "      <th></th>\n",
              "      <th>STRLV</th>\n",
              "      <th>SENLV</th>\n",
              "      <th>WORKLV</th>\n",
              "    </tr>\n",
              "  </thead>\n",
              "  <tbody>\n",
              "    <tr>\n",
              "      <th>0</th>\n",
              "      <td>2.231</td>\n",
              "      <td>1.652</td>\n",
              "      <td>4.625</td>\n",
              "    </tr>\n",
              "    <tr>\n",
              "      <th>1</th>\n",
              "      <td>2.837</td>\n",
              "      <td>2.007</td>\n",
              "      <td>4.213</td>\n",
              "    </tr>\n",
              "    <tr>\n",
              "      <th>2</th>\n",
              "      <td>3.611</td>\n",
              "      <td>1.923</td>\n",
              "      <td>4.211</td>\n",
              "    </tr>\n",
              "    <tr>\n",
              "      <th>3</th>\n",
              "      <td>3.966</td>\n",
              "      <td>1.876</td>\n",
              "      <td>4.096</td>\n",
              "    </tr>\n",
              "    <tr>\n",
              "      <th>4</th>\n",
              "      <td>0.869</td>\n",
              "      <td>0.636</td>\n",
              "      <td>3.838</td>\n",
              "    </tr>\n",
              "    <tr>\n",
              "      <th>5</th>\n",
              "      <td>3.127</td>\n",
              "      <td>0.918</td>\n",
              "      <td>3.626</td>\n",
              "    </tr>\n",
              "    <tr>\n",
              "      <th>6</th>\n",
              "      <td>1.116</td>\n",
              "      <td>0.716</td>\n",
              "      <td>3.427</td>\n",
              "    </tr>\n",
              "    <tr>\n",
              "      <th>7</th>\n",
              "      <td>4.089</td>\n",
              "      <td>1.983</td>\n",
              "      <td>3.331</td>\n",
              "    </tr>\n",
              "    <tr>\n",
              "      <th>8</th>\n",
              "      <td>4.556</td>\n",
              "      <td>2.433</td>\n",
              "      <td>2.963</td>\n",
              "    </tr>\n",
              "    <tr>\n",
              "      <th>9</th>\n",
              "      <td>3.321</td>\n",
              "      <td>2.507</td>\n",
              "      <td>3.031</td>\n",
              "    </tr>\n",
              "    <tr>\n",
              "      <th>10</th>\n",
              "      <td>6.772</td>\n",
              "      <td>3.129</td>\n",
              "      <td>2.859</td>\n",
              "    </tr>\n",
              "    <tr>\n",
              "      <th>11</th>\n",
              "      <td>5.931</td>\n",
              "      <td>3.688</td>\n",
              "      <td>2.633</td>\n",
              "    </tr>\n",
              "    <tr>\n",
              "      <th>12</th>\n",
              "      <td>3.771</td>\n",
              "      <td>2.015</td>\n",
              "      <td>2.939</td>\n",
              "    </tr>\n",
              "    <tr>\n",
              "      <th>13</th>\n",
              "      <td>5.394</td>\n",
              "      <td>3.533</td>\n",
              "      <td>3.813</td>\n",
              "    </tr>\n",
              "    <tr>\n",
              "      <th>14</th>\n",
              "      <td>2.763</td>\n",
              "      <td>2.001</td>\n",
              "      <td>3.763</td>\n",
              "    </tr>\n",
              "    <tr>\n",
              "      <th>15</th>\n",
              "      <td>3.868</td>\n",
              "      <td>1.979</td>\n",
              "      <td>3.669</td>\n",
              "    </tr>\n",
              "    <tr>\n",
              "      <th>16</th>\n",
              "      <td>1.715</td>\n",
              "      <td>1.769</td>\n",
              "      <td>3.781</td>\n",
              "    </tr>\n",
              "    <tr>\n",
              "      <th>17</th>\n",
              "      <td>2.488</td>\n",
              "      <td>2.131</td>\n",
              "      <td>3.222</td>\n",
              "    </tr>\n",
              "    <tr>\n",
              "      <th>18</th>\n",
              "      <td>1.667</td>\n",
              "      <td>0.896</td>\n",
              "      <td>3.386</td>\n",
              "    </tr>\n",
              "    <tr>\n",
              "      <th>19</th>\n",
              "      <td>1.113</td>\n",
              "      <td>1.153</td>\n",
              "      <td>3.552</td>\n",
              "    </tr>\n",
              "    <tr>\n",
              "      <th>20</th>\n",
              "      <td>4.092</td>\n",
              "      <td>2.388</td>\n",
              "      <td>3.631</td>\n",
              "    </tr>\n",
              "    <tr>\n",
              "      <th>21</th>\n",
              "      <td>2.078</td>\n",
              "      <td>2.076</td>\n",
              "      <td>3.278</td>\n",
              "    </tr>\n",
              "    <tr>\n",
              "      <th>22</th>\n",
              "      <td>3.033</td>\n",
              "      <td>2.438</td>\n",
              "      <td>3.121</td>\n",
              "    </tr>\n",
              "    <tr>\n",
              "      <th>23</th>\n",
              "      <td>3.431</td>\n",
              "      <td>1.767</td>\n",
              "      <td>3.645</td>\n",
              "    </tr>\n",
              "    <tr>\n",
              "      <th>24</th>\n",
              "      <td>3.778</td>\n",
              "      <td>2.884</td>\n",
              "      <td>3.709</td>\n",
              "    </tr>\n",
              "    <tr>\n",
              "      <th>25</th>\n",
              "      <td>5.314</td>\n",
              "      <td>3.612</td>\n",
              "      <td>3.559</td>\n",
              "    </tr>\n",
              "    <tr>\n",
              "      <th>26</th>\n",
              "      <td>6.833</td>\n",
              "      <td>3.978</td>\n",
              "      <td>3.229</td>\n",
              "    </tr>\n",
              "    <tr>\n",
              "      <th>27</th>\n",
              "      <td>4.782</td>\n",
              "      <td>2.834</td>\n",
              "      <td>2.073</td>\n",
              "    </tr>\n",
              "    <tr>\n",
              "      <th>28</th>\n",
              "      <td>0.436</td>\n",
              "      <td>1.221</td>\n",
              "      <td>1.733</td>\n",
              "    </tr>\n",
              "    <tr>\n",
              "      <th>29</th>\n",
              "      <td>1.597</td>\n",
              "      <td>1.332</td>\n",
              "      <td>1.633</td>\n",
              "    </tr>\n",
              "    <tr>\n",
              "      <th>30</th>\n",
              "      <td>1.631</td>\n",
              "      <td>1.443</td>\n",
              "      <td>1.434</td>\n",
              "    </tr>\n",
              "  </tbody>\n",
              "</table>\n",
              "</div>\n",
              "      <button class=\"colab-df-convert\" onclick=\"convertToInteractive('df-6f18e6f8-18be-4f62-88b2-9e927105b992')\"\n",
              "              title=\"Convert this dataframe to an interactive table.\"\n",
              "              style=\"display:none;\">\n",
              "        \n",
              "  <svg xmlns=\"http://www.w3.org/2000/svg\" height=\"24px\"viewBox=\"0 0 24 24\"\n",
              "       width=\"24px\">\n",
              "    <path d=\"M0 0h24v24H0V0z\" fill=\"none\"/>\n",
              "    <path d=\"M18.56 5.44l.94 2.06.94-2.06 2.06-.94-2.06-.94-.94-2.06-.94 2.06-2.06.94zm-11 1L8.5 8.5l.94-2.06 2.06-.94-2.06-.94L8.5 2.5l-.94 2.06-2.06.94zm10 10l.94 2.06.94-2.06 2.06-.94-2.06-.94-.94-2.06-.94 2.06-2.06.94z\"/><path d=\"M17.41 7.96l-1.37-1.37c-.4-.4-.92-.59-1.43-.59-.52 0-1.04.2-1.43.59L10.3 9.45l-7.72 7.72c-.78.78-.78 2.05 0 2.83L4 21.41c.39.39.9.59 1.41.59.51 0 1.02-.2 1.41-.59l7.78-7.78 2.81-2.81c.8-.78.8-2.07 0-2.86zM5.41 20L4 18.59l7.72-7.72 1.47 1.35L5.41 20z\"/>\n",
              "  </svg>\n",
              "      </button>\n",
              "      \n",
              "  <style>\n",
              "    .colab-df-container {\n",
              "      display:flex;\n",
              "      flex-wrap:wrap;\n",
              "      gap: 12px;\n",
              "    }\n",
              "\n",
              "    .colab-df-convert {\n",
              "      background-color: #E8F0FE;\n",
              "      border: none;\n",
              "      border-radius: 50%;\n",
              "      cursor: pointer;\n",
              "      display: none;\n",
              "      fill: #1967D2;\n",
              "      height: 32px;\n",
              "      padding: 0 0 0 0;\n",
              "      width: 32px;\n",
              "    }\n",
              "\n",
              "    .colab-df-convert:hover {\n",
              "      background-color: #E2EBFA;\n",
              "      box-shadow: 0px 1px 2px rgba(60, 64, 67, 0.3), 0px 1px 3px 1px rgba(60, 64, 67, 0.15);\n",
              "      fill: #174EA6;\n",
              "    }\n",
              "\n",
              "    [theme=dark] .colab-df-convert {\n",
              "      background-color: #3B4455;\n",
              "      fill: #D2E3FC;\n",
              "    }\n",
              "\n",
              "    [theme=dark] .colab-df-convert:hover {\n",
              "      background-color: #434B5C;\n",
              "      box-shadow: 0px 1px 3px 1px rgba(0, 0, 0, 0.15);\n",
              "      filter: drop-shadow(0px 1px 2px rgba(0, 0, 0, 0.3));\n",
              "      fill: #FFFFFF;\n",
              "    }\n",
              "  </style>\n",
              "\n",
              "      <script>\n",
              "        const buttonEl =\n",
              "          document.querySelector('#df-6f18e6f8-18be-4f62-88b2-9e927105b992 button.colab-df-convert');\n",
              "        buttonEl.style.display =\n",
              "          google.colab.kernel.accessAllowed ? 'block' : 'none';\n",
              "\n",
              "        async function convertToInteractive(key) {\n",
              "          const element = document.querySelector('#df-6f18e6f8-18be-4f62-88b2-9e927105b992');\n",
              "          const dataTable =\n",
              "            await google.colab.kernel.invokeFunction('convertToInteractive',\n",
              "                                                     [key], {});\n",
              "          if (!dataTable) return;\n",
              "\n",
              "          const docLinkHtml = 'Like what you see? Visit the ' +\n",
              "            '<a target=\"_blank\" href=https://colab.research.google.com/notebooks/data_table.ipynb>data table notebook</a>'\n",
              "            + ' to learn more about interactive tables.';\n",
              "          element.innerHTML = '';\n",
              "          dataTable['output_type'] = 'display_data';\n",
              "          await google.colab.output.renderOutput(dataTable, element);\n",
              "          const docLink = document.createElement('div');\n",
              "          docLink.innerHTML = docLinkHtml;\n",
              "          element.appendChild(docLink);\n",
              "        }\n",
              "      </script>\n",
              "    </div>\n",
              "  </div>\n",
              "  "
            ]
          },
          "metadata": {},
          "execution_count": 123
        }
      ],
      "source": [
        "from sklearn import linear_model #선형회귀 라이브러리\n",
        "from sklearn import datasets\n",
        "\n",
        "import pandas as pd\n",
        "import numpy as np\n",
        "\n",
        "\n",
        "dataset1 = pd.read_excel('데과인 Raw Data.xlsx', names=['STRLV','SENLV',\"WORKLV\"])\n",
        "dataset1"
      ]
    },
    {
      "cell_type": "code",
      "source": [
        ""
      ],
      "metadata": {
        "id": "VUaMFZHJYjXN"
      },
      "execution_count": null,
      "outputs": []
    },
    {
      "cell_type": "code",
      "source": [
        "dataset1['STRLV'].shape"
      ],
      "metadata": {
        "colab": {
          "base_uri": "https://localhost:8080/"
        },
        "id": "tH6OqPShXnPi",
        "outputId": "59daf084-f21e-4f02-8c35-0a91d2071fd4"
      },
      "execution_count": 124,
      "outputs": [
        {
          "output_type": "execute_result",
          "data": {
            "text/plain": [
              "(31,)"
            ]
          },
          "metadata": {},
          "execution_count": 124
        }
      ]
    },
    {
      "cell_type": "code",
      "source": [
        "dataset1['SENLV'].shape"
      ],
      "metadata": {
        "colab": {
          "base_uri": "https://localhost:8080/"
        },
        "id": "8MEItp2hXXcF",
        "outputId": "ef353545-6268-429e-9f09-199f099c15cc"
      },
      "execution_count": 125,
      "outputs": [
        {
          "output_type": "execute_result",
          "data": {
            "text/plain": [
              "(31,)"
            ]
          },
          "metadata": {},
          "execution_count": 125
        }
      ]
    },
    {
      "cell_type": "code",
      "source": [
        "dataset1['WORKLV'].shape"
      ],
      "metadata": {
        "colab": {
          "base_uri": "https://localhost:8080/"
        },
        "id": "5NfJSdWOZHuV",
        "outputId": "b4584ab6-9e34-4757-ca48-2275564119f0"
      },
      "execution_count": 126,
      "outputs": [
        {
          "output_type": "execute_result",
          "data": {
            "text/plain": [
              "(31,)"
            ]
          },
          "metadata": {},
          "execution_count": 126
        }
      ]
    },
    {
      "cell_type": "code",
      "source": [
        "data = {'STRLV':dataset1['STRLV'], 'SENLV': dataset1['SENLV'], 'WORKLV': dataset1['WORKLV']}\n",
        "\n",
        "data = pd.DataFrame(data)\n",
        "\n",
        "X_data = data['STRLV']\n",
        "Y_data = data[['SENLV','WORKLV']]\n",
        "data"
      ],
      "metadata": {
        "colab": {
          "base_uri": "https://localhost:8080/",
          "height": 1000
        },
        "id": "YHuKoN3tgOk8",
        "outputId": "8d787f12-8695-46c6-fc36-51a0672a238e"
      },
      "execution_count": 127,
      "outputs": [
        {
          "output_type": "execute_result",
          "data": {
            "text/plain": [
              "    STRLV  SENLV  WORKLV\n",
              "0   2.231  1.652   4.625\n",
              "1   2.837  2.007   4.213\n",
              "2   3.611  1.923   4.211\n",
              "3   3.966  1.876   4.096\n",
              "4   0.869  0.636   3.838\n",
              "5   3.127  0.918   3.626\n",
              "6   1.116  0.716   3.427\n",
              "7   4.089  1.983   3.331\n",
              "8   4.556  2.433   2.963\n",
              "9   3.321  2.507   3.031\n",
              "10  6.772  3.129   2.859\n",
              "11  5.931  3.688   2.633\n",
              "12  3.771  2.015   2.939\n",
              "13  5.394  3.533   3.813\n",
              "14  2.763  2.001   3.763\n",
              "15  3.868  1.979   3.669\n",
              "16  1.715  1.769   3.781\n",
              "17  2.488  2.131   3.222\n",
              "18  1.667  0.896   3.386\n",
              "19  1.113  1.153   3.552\n",
              "20  4.092  2.388   3.631\n",
              "21  2.078  2.076   3.278\n",
              "22  3.033  2.438   3.121\n",
              "23  3.431  1.767   3.645\n",
              "24  3.778  2.884   3.709\n",
              "25  5.314  3.612   3.559\n",
              "26  6.833  3.978   3.229\n",
              "27  4.782  2.834   2.073\n",
              "28  0.436  1.221   1.733\n",
              "29  1.597  1.332   1.633\n",
              "30  1.631  1.443   1.434"
            ],
            "text/html": [
              "\n",
              "  <div id=\"df-530f9386-023f-4706-8dcb-f167f7002c93\">\n",
              "    <div class=\"colab-df-container\">\n",
              "      <div>\n",
              "<style scoped>\n",
              "    .dataframe tbody tr th:only-of-type {\n",
              "        vertical-align: middle;\n",
              "    }\n",
              "\n",
              "    .dataframe tbody tr th {\n",
              "        vertical-align: top;\n",
              "    }\n",
              "\n",
              "    .dataframe thead th {\n",
              "        text-align: right;\n",
              "    }\n",
              "</style>\n",
              "<table border=\"1\" class=\"dataframe\">\n",
              "  <thead>\n",
              "    <tr style=\"text-align: right;\">\n",
              "      <th></th>\n",
              "      <th>STRLV</th>\n",
              "      <th>SENLV</th>\n",
              "      <th>WORKLV</th>\n",
              "    </tr>\n",
              "  </thead>\n",
              "  <tbody>\n",
              "    <tr>\n",
              "      <th>0</th>\n",
              "      <td>2.231</td>\n",
              "      <td>1.652</td>\n",
              "      <td>4.625</td>\n",
              "    </tr>\n",
              "    <tr>\n",
              "      <th>1</th>\n",
              "      <td>2.837</td>\n",
              "      <td>2.007</td>\n",
              "      <td>4.213</td>\n",
              "    </tr>\n",
              "    <tr>\n",
              "      <th>2</th>\n",
              "      <td>3.611</td>\n",
              "      <td>1.923</td>\n",
              "      <td>4.211</td>\n",
              "    </tr>\n",
              "    <tr>\n",
              "      <th>3</th>\n",
              "      <td>3.966</td>\n",
              "      <td>1.876</td>\n",
              "      <td>4.096</td>\n",
              "    </tr>\n",
              "    <tr>\n",
              "      <th>4</th>\n",
              "      <td>0.869</td>\n",
              "      <td>0.636</td>\n",
              "      <td>3.838</td>\n",
              "    </tr>\n",
              "    <tr>\n",
              "      <th>5</th>\n",
              "      <td>3.127</td>\n",
              "      <td>0.918</td>\n",
              "      <td>3.626</td>\n",
              "    </tr>\n",
              "    <tr>\n",
              "      <th>6</th>\n",
              "      <td>1.116</td>\n",
              "      <td>0.716</td>\n",
              "      <td>3.427</td>\n",
              "    </tr>\n",
              "    <tr>\n",
              "      <th>7</th>\n",
              "      <td>4.089</td>\n",
              "      <td>1.983</td>\n",
              "      <td>3.331</td>\n",
              "    </tr>\n",
              "    <tr>\n",
              "      <th>8</th>\n",
              "      <td>4.556</td>\n",
              "      <td>2.433</td>\n",
              "      <td>2.963</td>\n",
              "    </tr>\n",
              "    <tr>\n",
              "      <th>9</th>\n",
              "      <td>3.321</td>\n",
              "      <td>2.507</td>\n",
              "      <td>3.031</td>\n",
              "    </tr>\n",
              "    <tr>\n",
              "      <th>10</th>\n",
              "      <td>6.772</td>\n",
              "      <td>3.129</td>\n",
              "      <td>2.859</td>\n",
              "    </tr>\n",
              "    <tr>\n",
              "      <th>11</th>\n",
              "      <td>5.931</td>\n",
              "      <td>3.688</td>\n",
              "      <td>2.633</td>\n",
              "    </tr>\n",
              "    <tr>\n",
              "      <th>12</th>\n",
              "      <td>3.771</td>\n",
              "      <td>2.015</td>\n",
              "      <td>2.939</td>\n",
              "    </tr>\n",
              "    <tr>\n",
              "      <th>13</th>\n",
              "      <td>5.394</td>\n",
              "      <td>3.533</td>\n",
              "      <td>3.813</td>\n",
              "    </tr>\n",
              "    <tr>\n",
              "      <th>14</th>\n",
              "      <td>2.763</td>\n",
              "      <td>2.001</td>\n",
              "      <td>3.763</td>\n",
              "    </tr>\n",
              "    <tr>\n",
              "      <th>15</th>\n",
              "      <td>3.868</td>\n",
              "      <td>1.979</td>\n",
              "      <td>3.669</td>\n",
              "    </tr>\n",
              "    <tr>\n",
              "      <th>16</th>\n",
              "      <td>1.715</td>\n",
              "      <td>1.769</td>\n",
              "      <td>3.781</td>\n",
              "    </tr>\n",
              "    <tr>\n",
              "      <th>17</th>\n",
              "      <td>2.488</td>\n",
              "      <td>2.131</td>\n",
              "      <td>3.222</td>\n",
              "    </tr>\n",
              "    <tr>\n",
              "      <th>18</th>\n",
              "      <td>1.667</td>\n",
              "      <td>0.896</td>\n",
              "      <td>3.386</td>\n",
              "    </tr>\n",
              "    <tr>\n",
              "      <th>19</th>\n",
              "      <td>1.113</td>\n",
              "      <td>1.153</td>\n",
              "      <td>3.552</td>\n",
              "    </tr>\n",
              "    <tr>\n",
              "      <th>20</th>\n",
              "      <td>4.092</td>\n",
              "      <td>2.388</td>\n",
              "      <td>3.631</td>\n",
              "    </tr>\n",
              "    <tr>\n",
              "      <th>21</th>\n",
              "      <td>2.078</td>\n",
              "      <td>2.076</td>\n",
              "      <td>3.278</td>\n",
              "    </tr>\n",
              "    <tr>\n",
              "      <th>22</th>\n",
              "      <td>3.033</td>\n",
              "      <td>2.438</td>\n",
              "      <td>3.121</td>\n",
              "    </tr>\n",
              "    <tr>\n",
              "      <th>23</th>\n",
              "      <td>3.431</td>\n",
              "      <td>1.767</td>\n",
              "      <td>3.645</td>\n",
              "    </tr>\n",
              "    <tr>\n",
              "      <th>24</th>\n",
              "      <td>3.778</td>\n",
              "      <td>2.884</td>\n",
              "      <td>3.709</td>\n",
              "    </tr>\n",
              "    <tr>\n",
              "      <th>25</th>\n",
              "      <td>5.314</td>\n",
              "      <td>3.612</td>\n",
              "      <td>3.559</td>\n",
              "    </tr>\n",
              "    <tr>\n",
              "      <th>26</th>\n",
              "      <td>6.833</td>\n",
              "      <td>3.978</td>\n",
              "      <td>3.229</td>\n",
              "    </tr>\n",
              "    <tr>\n",
              "      <th>27</th>\n",
              "      <td>4.782</td>\n",
              "      <td>2.834</td>\n",
              "      <td>2.073</td>\n",
              "    </tr>\n",
              "    <tr>\n",
              "      <th>28</th>\n",
              "      <td>0.436</td>\n",
              "      <td>1.221</td>\n",
              "      <td>1.733</td>\n",
              "    </tr>\n",
              "    <tr>\n",
              "      <th>29</th>\n",
              "      <td>1.597</td>\n",
              "      <td>1.332</td>\n",
              "      <td>1.633</td>\n",
              "    </tr>\n",
              "    <tr>\n",
              "      <th>30</th>\n",
              "      <td>1.631</td>\n",
              "      <td>1.443</td>\n",
              "      <td>1.434</td>\n",
              "    </tr>\n",
              "  </tbody>\n",
              "</table>\n",
              "</div>\n",
              "      <button class=\"colab-df-convert\" onclick=\"convertToInteractive('df-530f9386-023f-4706-8dcb-f167f7002c93')\"\n",
              "              title=\"Convert this dataframe to an interactive table.\"\n",
              "              style=\"display:none;\">\n",
              "        \n",
              "  <svg xmlns=\"http://www.w3.org/2000/svg\" height=\"24px\"viewBox=\"0 0 24 24\"\n",
              "       width=\"24px\">\n",
              "    <path d=\"M0 0h24v24H0V0z\" fill=\"none\"/>\n",
              "    <path d=\"M18.56 5.44l.94 2.06.94-2.06 2.06-.94-2.06-.94-.94-2.06-.94 2.06-2.06.94zm-11 1L8.5 8.5l.94-2.06 2.06-.94-2.06-.94L8.5 2.5l-.94 2.06-2.06.94zm10 10l.94 2.06.94-2.06 2.06-.94-2.06-.94-.94-2.06-.94 2.06-2.06.94z\"/><path d=\"M17.41 7.96l-1.37-1.37c-.4-.4-.92-.59-1.43-.59-.52 0-1.04.2-1.43.59L10.3 9.45l-7.72 7.72c-.78.78-.78 2.05 0 2.83L4 21.41c.39.39.9.59 1.41.59.51 0 1.02-.2 1.41-.59l7.78-7.78 2.81-2.81c.8-.78.8-2.07 0-2.86zM5.41 20L4 18.59l7.72-7.72 1.47 1.35L5.41 20z\"/>\n",
              "  </svg>\n",
              "      </button>\n",
              "      \n",
              "  <style>\n",
              "    .colab-df-container {\n",
              "      display:flex;\n",
              "      flex-wrap:wrap;\n",
              "      gap: 12px;\n",
              "    }\n",
              "\n",
              "    .colab-df-convert {\n",
              "      background-color: #E8F0FE;\n",
              "      border: none;\n",
              "      border-radius: 50%;\n",
              "      cursor: pointer;\n",
              "      display: none;\n",
              "      fill: #1967D2;\n",
              "      height: 32px;\n",
              "      padding: 0 0 0 0;\n",
              "      width: 32px;\n",
              "    }\n",
              "\n",
              "    .colab-df-convert:hover {\n",
              "      background-color: #E2EBFA;\n",
              "      box-shadow: 0px 1px 2px rgba(60, 64, 67, 0.3), 0px 1px 3px 1px rgba(60, 64, 67, 0.15);\n",
              "      fill: #174EA6;\n",
              "    }\n",
              "\n",
              "    [theme=dark] .colab-df-convert {\n",
              "      background-color: #3B4455;\n",
              "      fill: #D2E3FC;\n",
              "    }\n",
              "\n",
              "    [theme=dark] .colab-df-convert:hover {\n",
              "      background-color: #434B5C;\n",
              "      box-shadow: 0px 1px 3px 1px rgba(0, 0, 0, 0.15);\n",
              "      filter: drop-shadow(0px 1px 2px rgba(0, 0, 0, 0.3));\n",
              "      fill: #FFFFFF;\n",
              "    }\n",
              "  </style>\n",
              "\n",
              "      <script>\n",
              "        const buttonEl =\n",
              "          document.querySelector('#df-530f9386-023f-4706-8dcb-f167f7002c93 button.colab-df-convert');\n",
              "        buttonEl.style.display =\n",
              "          google.colab.kernel.accessAllowed ? 'block' : 'none';\n",
              "\n",
              "        async function convertToInteractive(key) {\n",
              "          const element = document.querySelector('#df-530f9386-023f-4706-8dcb-f167f7002c93');\n",
              "          const dataTable =\n",
              "            await google.colab.kernel.invokeFunction('convertToInteractive',\n",
              "                                                     [key], {});\n",
              "          if (!dataTable) return;\n",
              "\n",
              "          const docLinkHtml = 'Like what you see? Visit the ' +\n",
              "            '<a target=\"_blank\" href=https://colab.research.google.com/notebooks/data_table.ipynb>data table notebook</a>'\n",
              "            + ' to learn more about interactive tables.';\n",
              "          element.innerHTML = '';\n",
              "          dataTable['output_type'] = 'display_data';\n",
              "          await google.colab.output.renderOutput(dataTable, element);\n",
              "          const docLink = document.createElement('div');\n",
              "          docLink.innerHTML = docLinkHtml;\n",
              "          element.appendChild(docLink);\n",
              "        }\n",
              "      </script>\n",
              "    </div>\n",
              "  </div>\n",
              "  "
            ]
          },
          "metadata": {},
          "execution_count": 127
        }
      ]
    },
    {
      "cell_type": "code",
      "source": [
        "X_data\n",
        "Y_data"
      ],
      "metadata": {
        "colab": {
          "base_uri": "https://localhost:8080/",
          "height": 1000
        },
        "id": "EDQeeQsbfyJo",
        "outputId": "fdb25ee7-7562-443b-bb26-f55e14febaa9"
      },
      "execution_count": 128,
      "outputs": [
        {
          "output_type": "execute_result",
          "data": {
            "text/plain": [
              "    SENLV  WORKLV\n",
              "0   1.652   4.625\n",
              "1   2.007   4.213\n",
              "2   1.923   4.211\n",
              "3   1.876   4.096\n",
              "4   0.636   3.838\n",
              "5   0.918   3.626\n",
              "6   0.716   3.427\n",
              "7   1.983   3.331\n",
              "8   2.433   2.963\n",
              "9   2.507   3.031\n",
              "10  3.129   2.859\n",
              "11  3.688   2.633\n",
              "12  2.015   2.939\n",
              "13  3.533   3.813\n",
              "14  2.001   3.763\n",
              "15  1.979   3.669\n",
              "16  1.769   3.781\n",
              "17  2.131   3.222\n",
              "18  0.896   3.386\n",
              "19  1.153   3.552\n",
              "20  2.388   3.631\n",
              "21  2.076   3.278\n",
              "22  2.438   3.121\n",
              "23  1.767   3.645\n",
              "24  2.884   3.709\n",
              "25  3.612   3.559\n",
              "26  3.978   3.229\n",
              "27  2.834   2.073\n",
              "28  1.221   1.733\n",
              "29  1.332   1.633\n",
              "30  1.443   1.434"
            ],
            "text/html": [
              "\n",
              "  <div id=\"df-a212e23b-1efb-4320-bfce-e6c1309fb447\">\n",
              "    <div class=\"colab-df-container\">\n",
              "      <div>\n",
              "<style scoped>\n",
              "    .dataframe tbody tr th:only-of-type {\n",
              "        vertical-align: middle;\n",
              "    }\n",
              "\n",
              "    .dataframe tbody tr th {\n",
              "        vertical-align: top;\n",
              "    }\n",
              "\n",
              "    .dataframe thead th {\n",
              "        text-align: right;\n",
              "    }\n",
              "</style>\n",
              "<table border=\"1\" class=\"dataframe\">\n",
              "  <thead>\n",
              "    <tr style=\"text-align: right;\">\n",
              "      <th></th>\n",
              "      <th>SENLV</th>\n",
              "      <th>WORKLV</th>\n",
              "    </tr>\n",
              "  </thead>\n",
              "  <tbody>\n",
              "    <tr>\n",
              "      <th>0</th>\n",
              "      <td>1.652</td>\n",
              "      <td>4.625</td>\n",
              "    </tr>\n",
              "    <tr>\n",
              "      <th>1</th>\n",
              "      <td>2.007</td>\n",
              "      <td>4.213</td>\n",
              "    </tr>\n",
              "    <tr>\n",
              "      <th>2</th>\n",
              "      <td>1.923</td>\n",
              "      <td>4.211</td>\n",
              "    </tr>\n",
              "    <tr>\n",
              "      <th>3</th>\n",
              "      <td>1.876</td>\n",
              "      <td>4.096</td>\n",
              "    </tr>\n",
              "    <tr>\n",
              "      <th>4</th>\n",
              "      <td>0.636</td>\n",
              "      <td>3.838</td>\n",
              "    </tr>\n",
              "    <tr>\n",
              "      <th>5</th>\n",
              "      <td>0.918</td>\n",
              "      <td>3.626</td>\n",
              "    </tr>\n",
              "    <tr>\n",
              "      <th>6</th>\n",
              "      <td>0.716</td>\n",
              "      <td>3.427</td>\n",
              "    </tr>\n",
              "    <tr>\n",
              "      <th>7</th>\n",
              "      <td>1.983</td>\n",
              "      <td>3.331</td>\n",
              "    </tr>\n",
              "    <tr>\n",
              "      <th>8</th>\n",
              "      <td>2.433</td>\n",
              "      <td>2.963</td>\n",
              "    </tr>\n",
              "    <tr>\n",
              "      <th>9</th>\n",
              "      <td>2.507</td>\n",
              "      <td>3.031</td>\n",
              "    </tr>\n",
              "    <tr>\n",
              "      <th>10</th>\n",
              "      <td>3.129</td>\n",
              "      <td>2.859</td>\n",
              "    </tr>\n",
              "    <tr>\n",
              "      <th>11</th>\n",
              "      <td>3.688</td>\n",
              "      <td>2.633</td>\n",
              "    </tr>\n",
              "    <tr>\n",
              "      <th>12</th>\n",
              "      <td>2.015</td>\n",
              "      <td>2.939</td>\n",
              "    </tr>\n",
              "    <tr>\n",
              "      <th>13</th>\n",
              "      <td>3.533</td>\n",
              "      <td>3.813</td>\n",
              "    </tr>\n",
              "    <tr>\n",
              "      <th>14</th>\n",
              "      <td>2.001</td>\n",
              "      <td>3.763</td>\n",
              "    </tr>\n",
              "    <tr>\n",
              "      <th>15</th>\n",
              "      <td>1.979</td>\n",
              "      <td>3.669</td>\n",
              "    </tr>\n",
              "    <tr>\n",
              "      <th>16</th>\n",
              "      <td>1.769</td>\n",
              "      <td>3.781</td>\n",
              "    </tr>\n",
              "    <tr>\n",
              "      <th>17</th>\n",
              "      <td>2.131</td>\n",
              "      <td>3.222</td>\n",
              "    </tr>\n",
              "    <tr>\n",
              "      <th>18</th>\n",
              "      <td>0.896</td>\n",
              "      <td>3.386</td>\n",
              "    </tr>\n",
              "    <tr>\n",
              "      <th>19</th>\n",
              "      <td>1.153</td>\n",
              "      <td>3.552</td>\n",
              "    </tr>\n",
              "    <tr>\n",
              "      <th>20</th>\n",
              "      <td>2.388</td>\n",
              "      <td>3.631</td>\n",
              "    </tr>\n",
              "    <tr>\n",
              "      <th>21</th>\n",
              "      <td>2.076</td>\n",
              "      <td>3.278</td>\n",
              "    </tr>\n",
              "    <tr>\n",
              "      <th>22</th>\n",
              "      <td>2.438</td>\n",
              "      <td>3.121</td>\n",
              "    </tr>\n",
              "    <tr>\n",
              "      <th>23</th>\n",
              "      <td>1.767</td>\n",
              "      <td>3.645</td>\n",
              "    </tr>\n",
              "    <tr>\n",
              "      <th>24</th>\n",
              "      <td>2.884</td>\n",
              "      <td>3.709</td>\n",
              "    </tr>\n",
              "    <tr>\n",
              "      <th>25</th>\n",
              "      <td>3.612</td>\n",
              "      <td>3.559</td>\n",
              "    </tr>\n",
              "    <tr>\n",
              "      <th>26</th>\n",
              "      <td>3.978</td>\n",
              "      <td>3.229</td>\n",
              "    </tr>\n",
              "    <tr>\n",
              "      <th>27</th>\n",
              "      <td>2.834</td>\n",
              "      <td>2.073</td>\n",
              "    </tr>\n",
              "    <tr>\n",
              "      <th>28</th>\n",
              "      <td>1.221</td>\n",
              "      <td>1.733</td>\n",
              "    </tr>\n",
              "    <tr>\n",
              "      <th>29</th>\n",
              "      <td>1.332</td>\n",
              "      <td>1.633</td>\n",
              "    </tr>\n",
              "    <tr>\n",
              "      <th>30</th>\n",
              "      <td>1.443</td>\n",
              "      <td>1.434</td>\n",
              "    </tr>\n",
              "  </tbody>\n",
              "</table>\n",
              "</div>\n",
              "      <button class=\"colab-df-convert\" onclick=\"convertToInteractive('df-a212e23b-1efb-4320-bfce-e6c1309fb447')\"\n",
              "              title=\"Convert this dataframe to an interactive table.\"\n",
              "              style=\"display:none;\">\n",
              "        \n",
              "  <svg xmlns=\"http://www.w3.org/2000/svg\" height=\"24px\"viewBox=\"0 0 24 24\"\n",
              "       width=\"24px\">\n",
              "    <path d=\"M0 0h24v24H0V0z\" fill=\"none\"/>\n",
              "    <path d=\"M18.56 5.44l.94 2.06.94-2.06 2.06-.94-2.06-.94-.94-2.06-.94 2.06-2.06.94zm-11 1L8.5 8.5l.94-2.06 2.06-.94-2.06-.94L8.5 2.5l-.94 2.06-2.06.94zm10 10l.94 2.06.94-2.06 2.06-.94-2.06-.94-.94-2.06-.94 2.06-2.06.94z\"/><path d=\"M17.41 7.96l-1.37-1.37c-.4-.4-.92-.59-1.43-.59-.52 0-1.04.2-1.43.59L10.3 9.45l-7.72 7.72c-.78.78-.78 2.05 0 2.83L4 21.41c.39.39.9.59 1.41.59.51 0 1.02-.2 1.41-.59l7.78-7.78 2.81-2.81c.8-.78.8-2.07 0-2.86zM5.41 20L4 18.59l7.72-7.72 1.47 1.35L5.41 20z\"/>\n",
              "  </svg>\n",
              "      </button>\n",
              "      \n",
              "  <style>\n",
              "    .colab-df-container {\n",
              "      display:flex;\n",
              "      flex-wrap:wrap;\n",
              "      gap: 12px;\n",
              "    }\n",
              "\n",
              "    .colab-df-convert {\n",
              "      background-color: #E8F0FE;\n",
              "      border: none;\n",
              "      border-radius: 50%;\n",
              "      cursor: pointer;\n",
              "      display: none;\n",
              "      fill: #1967D2;\n",
              "      height: 32px;\n",
              "      padding: 0 0 0 0;\n",
              "      width: 32px;\n",
              "    }\n",
              "\n",
              "    .colab-df-convert:hover {\n",
              "      background-color: #E2EBFA;\n",
              "      box-shadow: 0px 1px 2px rgba(60, 64, 67, 0.3), 0px 1px 3px 1px rgba(60, 64, 67, 0.15);\n",
              "      fill: #174EA6;\n",
              "    }\n",
              "\n",
              "    [theme=dark] .colab-df-convert {\n",
              "      background-color: #3B4455;\n",
              "      fill: #D2E3FC;\n",
              "    }\n",
              "\n",
              "    [theme=dark] .colab-df-convert:hover {\n",
              "      background-color: #434B5C;\n",
              "      box-shadow: 0px 1px 3px 1px rgba(0, 0, 0, 0.15);\n",
              "      filter: drop-shadow(0px 1px 2px rgba(0, 0, 0, 0.3));\n",
              "      fill: #FFFFFF;\n",
              "    }\n",
              "  </style>\n",
              "\n",
              "      <script>\n",
              "        const buttonEl =\n",
              "          document.querySelector('#df-a212e23b-1efb-4320-bfce-e6c1309fb447 button.colab-df-convert');\n",
              "        buttonEl.style.display =\n",
              "          google.colab.kernel.accessAllowed ? 'block' : 'none';\n",
              "\n",
              "        async function convertToInteractive(key) {\n",
              "          const element = document.querySelector('#df-a212e23b-1efb-4320-bfce-e6c1309fb447');\n",
              "          const dataTable =\n",
              "            await google.colab.kernel.invokeFunction('convertToInteractive',\n",
              "                                                     [key], {});\n",
              "          if (!dataTable) return;\n",
              "\n",
              "          const docLinkHtml = 'Like what you see? Visit the ' +\n",
              "            '<a target=\"_blank\" href=https://colab.research.google.com/notebooks/data_table.ipynb>data table notebook</a>'\n",
              "            + ' to learn more about interactive tables.';\n",
              "          element.innerHTML = '';\n",
              "          dataTable['output_type'] = 'display_data';\n",
              "          await google.colab.output.renderOutput(dataTable, element);\n",
              "          const docLink = document.createElement('div');\n",
              "          docLink.innerHTML = docLinkHtml;\n",
              "          element.appendChild(docLink);\n",
              "        }\n",
              "      </script>\n",
              "    </div>\n",
              "  </div>\n",
              "  "
            ]
          },
          "metadata": {},
          "execution_count": 128
        }
      ]
    },
    {
      "cell_type": "code",
      "source": [
        "from sklearn.linear_model import LinearRegression\n",
        "lr = LinearRegression()"
      ],
      "metadata": {
        "id": "GXOZUNarb-X8"
      },
      "execution_count": 129,
      "outputs": []
    },
    {
      "cell_type": "code",
      "source": [
        ""
      ],
      "metadata": {
        "id": "BWOKyVIKcYR1"
      },
      "execution_count": null,
      "outputs": []
    },
    {
      "cell_type": "code",
      "source": [
        ""
      ],
      "metadata": {
        "colab": {
          "base_uri": "https://localhost:8080/"
        },
        "id": "BgMzB5OMbhHP",
        "outputId": "c8a2b214-9790-4e3a-9ba7-e27b4eecec68"
      },
      "execution_count": 64,
      "outputs": [
        {
          "output_type": "stream",
          "name": "stdout",
          "text": [
            "Bintercept_:  [0.43995381 2.90242494]\n",
            "acoef_:  [[0.34064665]\n",
            " [0.11605081]]\n"
          ]
        }
      ]
    },
    {
      "cell_type": "code",
      "source": [
        "X = X_data.values.reshape(-1,1)\n",
        "X\n",
        "\n",
        "Y1 = Y_data['SENLV'].values.reshape(-1,1)\n",
        "Y1\n",
        "\n",
        "Y2 = Y_data['WORKLV'].values.reshape(-1,1)\n",
        "Y2"
      ],
      "metadata": {
        "colab": {
          "base_uri": "https://localhost:8080/"
        },
        "id": "XSuakvvkfOIK",
        "outputId": "065bee14-0b89-494e-8ffa-9ec8415b95a2"
      },
      "execution_count": 133,
      "outputs": [
        {
          "output_type": "execute_result",
          "data": {
            "text/plain": [
              "array([[4.625],\n",
              "       [4.213],\n",
              "       [4.211],\n",
              "       [4.096],\n",
              "       [3.838],\n",
              "       [3.626],\n",
              "       [3.427],\n",
              "       [3.331],\n",
              "       [2.963],\n",
              "       [3.031],\n",
              "       [2.859],\n",
              "       [2.633],\n",
              "       [2.939],\n",
              "       [3.813],\n",
              "       [3.763],\n",
              "       [3.669],\n",
              "       [3.781],\n",
              "       [3.222],\n",
              "       [3.386],\n",
              "       [3.552],\n",
              "       [3.631],\n",
              "       [3.278],\n",
              "       [3.121],\n",
              "       [3.645],\n",
              "       [3.709],\n",
              "       [3.559],\n",
              "       [3.229],\n",
              "       [2.073],\n",
              "       [1.733],\n",
              "       [1.633],\n",
              "       [1.434]])"
            ]
          },
          "metadata": {},
          "execution_count": 133
        }
      ]
    },
    {
      "cell_type": "code",
      "source": [
        "linear_regression = linear_model.LinearRegression()\n",
        "linear_regression.fit(X=X, y=Y1)\n",
        "prediction = linear_regression.predict(X=pd.DataFrame(X))\n",
        "\n",
        "print('Bintercept_: ', linear_regression.intercept_)\n",
        "print('acoef_: ', linear_regression.coef_)"
      ],
      "metadata": {
        "colab": {
          "base_uri": "https://localhost:8080/"
        },
        "id": "KfJpQLBDh2ZE",
        "outputId": "fae82c10-7e15-4dcd-9197-83b291b3a3ed"
      },
      "execution_count": 131,
      "outputs": [
        {
          "output_type": "stream",
          "name": "stdout",
          "text": [
            "Bintercept_:  [0.5811986]\n",
            "acoef_:  [[0.45886746]]\n"
          ]
        }
      ]
    },
    {
      "cell_type": "code",
      "source": [
        "import matplotlib.pyplot as plt\n",
        "from sklearn.linear_model import LinearRegression\n",
        "regressor1 = LinearRegression()\n",
        "regressor1.fit(X,Y1)\n",
        "\n",
        "plt.scatter(X, Y1, c='green')\n",
        "plt.plot(X, regressor1.predict(X))\n",
        "plt.title('y= {}*X + {}'.format(linear_regression.coef_, linear_regression.intercept_))\n",
        "\n",
        "plt.show()"
      ],
      "metadata": {
        "colab": {
          "base_uri": "https://localhost:8080/",
          "height": 281
        },
        "id": "8x0Wn0S6g6XX",
        "outputId": "a0b245af-e9c2-476e-a278-99eeb1a66b3a"
      },
      "execution_count": 132,
      "outputs": [
        {
          "output_type": "display_data",
          "data": {
            "text/plain": [
              "<Figure size 432x288 with 1 Axes>"
            ],
            "image/png": "[encoded data removed]"
          },
          "metadata": {
            "needs_background": "light"
          }
        }
      ]
    },
    {
      "cell_type": "code",
      "source": [
        "linear_regression = linear_model.LinearRegression()\n",
        "linear_regression.fit(X=X, y=Y2)\n",
        "prediction = linear_regression.predict(X=pd.DataFrame(X))\n",
        "\n",
        "print('Bintercept_: ', linear_regression.intercept_)\n",
        "print('acoef_: ', linear_regression.coef_)"
      ],
      "metadata": {
        "colab": {
          "base_uri": "https://localhost:8080/"
        },
        "id": "EKRjeqBqhiMG",
        "outputId": "473165d0-6814-404d-e12f-89933059a722"
      },
      "execution_count": 134,
      "outputs": [
        {
          "output_type": "stream",
          "name": "stdout",
          "text": [
            "Bintercept_:  [3.19034307]\n",
            "acoef_:  [[0.03054853]]\n"
          ]
        }
      ]
    },
    {
      "cell_type": "code",
      "source": [
        "regressor2 = LinearRegression()\n",
        "regressor2.fit(X,Y2)\n",
        "\n",
        "plt.scatter(X, Y2, c='green')\n",
        "plt.plot(X, regressor2.predict(X))\n",
        "plt.title('y= {}*X + {}'.format(linear_regression.coef_, linear_regression.intercept_))\n",
        "\n",
        "plt.show()"
      ],
      "metadata": {
        "colab": {
          "base_uri": "https://localhost:8080/",
          "height": 281
        },
        "id": "Tn7nqWvBtWOY",
        "outputId": "59c8310b-427a-4f50-c3fb-fd6c5d1ad2a4"
      },
      "execution_count": 138,
      "outputs": [
        {
          "output_type": "display_data",
          "data": {
            "text/plain": [
              "<Figure size 432x288 with 1 Axes>"
            ],
            "image/png": "[encoded data removed]"
          },
          "metadata": {
            "needs_background": "light"
          }
        }
      ]
    },
    {
      "cell_type": "code",
      "source": [
        "linear_regression = linear_model.LinearRegression()\n",
        "linear_regression.fit(X=Y1, y=Y2)\n",
        "prediction = linear_regression.predict(X=pd.DataFrame(Y1))\n",
        "\n",
        "print('Bintercept_: ', linear_regression.intercept_)\n",
        "print('acoef_: ', linear_regression.coef_)"
      ],
      "metadata": {
        "colab": {
          "base_uri": "https://localhost:8080/"
        },
        "id": "_ygy8vEPtiB6",
        "outputId": "a391d897-ac3b-438b-e23f-5e12e1ad5025"
      },
      "execution_count": 137,
      "outputs": [
        {
          "output_type": "stream",
          "name": "stdout",
          "text": [
            "Bintercept_:  [3.33189042]\n",
            "acoef_:  [[-0.01949541]]\n"
          ]
        }
      ]
    },
    {
      "cell_type": "code",
      "source": [
        "regressor3 = LinearRegression()\n",
        "regressor3.fit(Y1,Y2)\n",
        "\n",
        "plt.scatter(Y1, Y2, c='green')\n",
        "plt.plot(X, regressor3.predict(X))\n",
        "plt.title('y= {}*X + {}'.format(linear_regression.coef_, linear_regression.intercept_))\n",
        "\n",
        "plt.show()"
      ],
      "metadata": {
        "colab": {
          "base_uri": "https://localhost:8080/",
          "height": 281
        },
        "id": "MPIEHN7Btcfn",
        "outputId": "8b1ab4bb-e134-45fd-9cdb-295c27019303"
      },
      "execution_count": 139,
      "outputs": [
        {
          "output_type": "display_data",
          "data": {
            "text/plain": [
              "<Figure size 432x288 with 1 Axes>"
            ],
            "image/png": "[encoded data removed]"
          },
          "metadata": {
            "needs_background": "light"
          }
        }
      ]
    },
    {
      "cell_type": "code",
      "source": [
        "X = X.reshape(31,)\n",
        "Y1 = Y1.reshape(31,)\n",
        "Y2 = Y2.reshape(31,)\n",
        "\n",
        "np.corrcoef(X,Y1)[0,1]\n",
        "np.corrcoef(X,Y2)[0,1]\n",
        "np.corrcoef(Y1,Y2)[0,1]\n"
      ],
      "metadata": {
        "colab": {
          "base_uri": "https://localhost:8080/"
        },
        "id": "rXqpWUuJuA8q",
        "outputId": "e6d7c228-6a15-455a-b302-9c41cf64512d"
      },
      "execution_count": 156,
      "outputs": [
        {
          "output_type": "execute_result",
          "data": {
            "text/plain": [
              "-0.022746115696812407"
            ]
          },
          "metadata": {},
          "execution_count": 156
        }
      ]
    },
    {
      "cell_type": "markdown",
      "source": [
        "(상관계수, 검정력(%))"
      ],
      "metadata": {
        "id": "1wHbuC3tAwV3"
      }
    },
    {
      "cell_type": "code",
      "source": [
        "stats.pearsonr(X,Y1)"
      ],
      "metadata": {
        "colab": {
          "base_uri": "https://localhost:8080/"
        },
        "id": "8bnwK3BrvgD-",
        "outputId": "72c263a8-bb98-44e1-fa30-72904066d7a9"
      },
      "execution_count": 183,
      "outputs": [
        {
          "output_type": "execute_result",
          "data": {
            "text/plain": [
              "(0.8761580491416839, 1.0696871555834266e-10)"
            ]
          },
          "metadata": {},
          "execution_count": 183
        }
      ]
    },
    {
      "cell_type": "code",
      "source": [
        "stats.pearsonr(X,Y2)"
      ],
      "metadata": {
        "colab": {
          "base_uri": "https://localhost:8080/"
        },
        "id": "sG5Wj5mCwOlE",
        "outputId": "0d9698c2-ecd7-43e2-ef43-bce9d3bb85ed"
      },
      "execution_count": 184,
      "outputs": [
        {
          "output_type": "execute_result",
          "data": {
            "text/plain": [
              "(0.06805504469765387, 0.7160331639500043)"
            ]
          },
          "metadata": {},
          "execution_count": 184
        }
      ]
    },
    {
      "cell_type": "code",
      "source": [
        "stats.pearsonr(Y1,Y2)"
      ],
      "metadata": {
        "colab": {
          "base_uri": "https://localhost:8080/"
        },
        "id": "Gmruhh3dwRUm",
        "outputId": "ee84577b-5310-445f-9257-a6eba7a5067c"
      },
      "execution_count": 185,
      "outputs": [
        {
          "output_type": "execute_result",
          "data": {
            "text/plain": [
              "(-0.022746115696812404, 0.9033297655533689)"
            ]
          },
          "metadata": {},
          "execution_count": 185
        }
      ]
    },
    {
      "cell_type": "code",
      "source": [
        "num = [1,2,3,4,5,6,7,8,9,10,11,12,13,14,15,16,17,18,19,20,21,22,23,24,25,26,27,28,29,30,31]"
      ],
      "metadata": {
        "id": "8ywSvSXH3iy_"
      },
      "execution_count": 159,
      "outputs": []
    },
    {
      "cell_type": "code",
      "source": [
        "plt.stackplot(num,X,Y1,Y2,colors=['g','c','pink'])\n",
        "plt.xlabel('Date')\n",
        "plt.ylabel('Features')\n",
        "plt.title('Stackplot of Days Info')\n",
        "plt.show()"
      ],
      "metadata": {
        "colab": {
          "base_uri": "https://localhost:8080/",
          "height": 295
        },
        "id": "A8FbgX2T3Duq",
        "outputId": "431623a6-06f9-4425-c487-dc17d23541c7"
      },
      "execution_count": 182,
      "outputs": [
        {
          "output_type": "display_data",
          "data": {
            "text/plain": [
              "<Figure size 432x288 with 1 Axes>"
            ],
            "image/png": "[encoded data removed]"
          },
          "metadata": {
            "needs_background": "light"
          }
        }
      ]
    }
  ]
}