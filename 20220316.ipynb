{
  "nbformat": 4,
  "nbformat_minor": 0,
  "metadata": {
    "colab": {
      "name": "20220316.ipynb",
      "provenance": [],
      "authorship_tag": "ABX9TyNIkZJW/92DVcEp4BU0P79F",
      "include_colab_link": true
    },
    "kernelspec": {
      "name": "python3",
      "display_name": "Python 3"
    },
    "language_info": {
      "name": "python"
    }
  },
  "cells": [
    {
      "cell_type": "markdown",
      "metadata": {
        "id": "view-in-github",
        "colab_type": "text"
      },
      "source": [
        "<a href=\"https://colab.research.google.com/github/MJSUMD/class2022Spring/blob/main/20220316.ipynb\" target=\"_parent\"><img src=\"https://colab.research.google.com/assets/colab-badge.svg\" alt=\"Open In Colab\"/></a>"
      ]
    },
    {
      "cell_type": "code",
      "execution_count": 2,
      "metadata": {
        "colab": {
          "base_uri": "https://localhost:8080/",
          "height": 356
        },
        "id": "Uiu5qti1iUNr",
        "outputId": "429fed38-b076-4933-d068-3260ab7f4bca"
      },
      "outputs": [
        {
          "output_type": "execute_result",
          "data": {
            "text/plain": [
              "(array([ 6.,  7., 10., 13., 15., 13., 16., 10.,  4.,  6.]),\n",
              " array([-1.88467563, -1.5065179 , -1.12836018, -0.75020245, -0.37204473,\n",
              "         0.006113  ,  0.38427072,  0.76242845,  1.14058617,  1.5187439 ,\n",
              "         1.89690162]),\n",
              " <a list of 10 Patch objects>)"
            ]
          },
          "metadata": {},
          "execution_count": 2
        },
        {
          "output_type": "display_data",
          "data": {
            "text/plain": [
              "<Figure size 432x288 with 1 Axes>"
            ],
            "image/png": "[encoded data removed]"
          },
          "metadata": {
            "needs_background": "light"
          }
        }
      ],
      "source": [
        "import numpy as np\n",
        "n=np.random.randn(100)\n",
        "import matplotlib\n",
        "matplotlib.pyplot.hist(n)\n"
      ]
    },
    {
      "cell_type": "code",
      "source": [
        "print ('k')"
      ],
      "metadata": {
        "colab": {
          "base_uri": "https://localhost:8080/"
        },
        "id": "kfzEv6smivDm",
        "outputId": "2a14514b-b537-4be8-988e-191830ade5cf"
      },
      "execution_count": 4,
      "outputs": [
        {
          "output_type": "stream",
          "name": "stdout",
          "text": [
            "k\n"
          ]
        }
      ]
    },
    {
      "cell_type": "code",
      "source": [
        "x=np.array([1,2,3])\n",
        "print(x)\n",
        "print(type(x))\n",
        "print(x.shape)"
      ],
      "metadata": {
        "colab": {
          "base_uri": "https://localhost:8080/"
        },
        "id": "xeFMLQrTi3tE",
        "outputId": "0df5ce11-9975-41c0-9452-51083290a303"
      },
      "execution_count": 5,
      "outputs": [
        {
          "output_type": "stream",
          "name": "stdout",
          "text": [
            "[1 2 3]\n",
            "<class 'numpy.ndarray'>\n",
            "(3,)\n"
          ]
        }
      ]
    },
    {
      "cell_type": "code",
      "source": [
        "x=np.arange(0,10,3)\n",
        "print(x)\n",
        "print(type(x))\n",
        "print(x.shape)"
      ],
      "metadata": {
        "colab": {
          "base_uri": "https://localhost:8080/"
        },
        "id": "Vpf0ITxPlvSP",
        "outputId": "9596e8ba-149c-447e-880f-72d75f4cdc67"
      },
      "execution_count": 8,
      "outputs": [
        {
          "output_type": "stream",
          "name": "stdout",
          "text": [
            "[0 3 6 9]\n",
            "<class 'numpy.ndarray'>\n",
            "(4,)\n"
          ]
        }
      ]
    },
    {
      "cell_type": "code",
      "source": [
        "x=np.linspace(0,10,4)\n",
        "print(x)"
      ],
      "metadata": {
        "colab": {
          "base_uri": "https://localhost:8080/"
        },
        "id": "1jTSdIuQmF2u",
        "outputId": "d1aad422-6d85-4d9e-de64-48c91aec10e9"
      },
      "execution_count": 9,
      "outputs": [
        {
          "output_type": "stream",
          "name": "stdout",
          "text": [
            "[ 0.          3.33333333  6.66666667 10.        ]\n"
          ]
        }
      ]
    },
    {
      "cell_type": "code",
      "source": [
        "x=np.array([[1,2,3],[4,5,6]])\n",
        "print(x)\n",
        "print(x.shape)"
      ],
      "metadata": {
        "colab": {
          "base_uri": "https://localhost:8080/"
        },
        "id": "x7-t7u2Emqee",
        "outputId": "8e6b8600-3107-43b9-8190-6a8207184b08"
      },
      "execution_count": 11,
      "outputs": [
        {
          "output_type": "stream",
          "name": "stdout",
          "text": [
            "[[1 2 3]\n",
            " [4 5 6]]\n",
            "(2, 3)\n"
          ]
        }
      ]
    },
    {
      "cell_type": "code",
      "source": [
        "x=np.ones([2,3,4])\n",
        "print(x)"
      ],
      "metadata": {
        "colab": {
          "base_uri": "https://localhost:8080/"
        },
        "id": "Qqrafjfdm0UM",
        "outputId": "b0255643-ec0f-4e95-d13f-918e49b38363"
      },
      "execution_count": 12,
      "outputs": [
        {
          "output_type": "stream",
          "name": "stdout",
          "text": [
            "[[[1. 1. 1. 1.]\n",
            "  [1. 1. 1. 1.]\n",
            "  [1. 1. 1. 1.]]\n",
            "\n",
            " [[1. 1. 1. 1.]\n",
            "  [1. 1. 1. 1.]\n",
            "  [1. 1. 1. 1.]]]\n"
          ]
        }
      ]
    },
    {
      "cell_type": "code",
      "source": [
        "np.random.normal(0,1,[2,3,4])"
      ],
      "metadata": {
        "colab": {
          "base_uri": "https://localhost:8080/"
        },
        "id": "2FJ_F4urnTMb",
        "outputId": "d490eea9-f13c-4df4-9411-da304cc66a69"
      },
      "execution_count": 14,
      "outputs": [
        {
          "output_type": "execute_result",
          "data": {
            "text/plain": [
              "array([[[-0.41207186, -0.74273913, -0.18731814, -1.3783898 ],\n",
              "        [ 0.56743449,  0.39473607,  1.7061233 ,  0.46923747],\n",
              "        [ 0.17716263, -1.36192344, -0.24581615, -0.56789721]],\n",
              "\n",
              "       [[ 0.82127542, -0.55848454,  0.08811991,  0.62865157],\n",
              "        [-1.01832894,  0.3652709 , -0.93263929,  1.73169057],\n",
              "        [-0.76641033,  0.35959558,  1.62088918,  1.09246446]]])"
            ]
          },
          "metadata": {},
          "execution_count": 14
        }
      ]
    },
    {
      "cell_type": "code",
      "source": [
        "x=np.random.normal(0,1,100)\n",
        "print(x)\n",
        "import matplotlib.pyplot as plt\n",
        "plt.hist(x, bins=10)"
      ],
      "metadata": {
        "colab": {
          "base_uri": "https://localhost:8080/",
          "height": 664
        },
        "id": "AvO8j4vint4u",
        "outputId": "1aad0370-c86c-426b-ec74-544391102cfa"
      },
      "execution_count": 19,
      "outputs": [
        {
          "output_type": "stream",
          "name": "stdout",
          "text": [
            "[ 0.13077707 -1.97485082 -0.45843884  0.71863995  0.28977634 -0.6531245\n",
            "  1.05853214  0.74223426 -0.55491536 -0.57209155 -0.85865484 -0.10537752\n",
            "  1.58768407 -0.08788359  0.25731613  1.16092827 -0.0781706   1.9210036\n",
            "  0.31217894 -0.02740193 -0.33762062  1.04805519 -0.62474303 -3.58667959\n",
            " -0.11122176  0.17340731  1.47429663 -0.54574881 -0.19961217 -0.33019012\n",
            "  0.23786778  1.56487495 -1.2541715  -0.02554041 -0.1044948   0.54584827\n",
            "  0.18136123 -0.08958703 -0.48482346 -0.39158295  0.63623349 -2.10287973\n",
            "  0.39267544  0.88366491  1.01717759  0.91591968  0.35886981 -0.85804339\n",
            " -0.01801996 -0.62832133  0.18418731  0.5431495   0.74559718  0.33003053\n",
            "  0.55811523 -0.62872534  0.27364022  1.10589715 -1.17066062  0.61666664\n",
            "  1.38019902  0.16302278  1.45445189  1.31310697 -1.0860103  -0.19035591\n",
            "  0.226892    0.98971171 -1.76156994  1.4125827   1.02217288 -0.47441965\n",
            "  0.47402861  1.12216995  1.43516892  0.18119749  1.07397687  0.26842685\n",
            "  0.29457215 -1.315821   -0.49195583  0.3269384  -1.87745252 -1.22010691\n",
            " -0.45335488 -0.43536866 -0.16731944  1.58431089 -0.40766938  0.03293156\n",
            " -0.75506385 -0.95069269 -0.69100035 -0.93873587  0.81998912  0.53149555\n",
            "  0.53680086  0.036454   -0.81599661 -0.07297767]\n"
          ]
        },
        {
          "output_type": "execute_result",
          "data": {
            "text/plain": [
              "(array([ 1.,  0.,  2.,  2.,  9., 20., 25., 19., 13.,  9.]),\n",
              " array([-3.58667959, -3.03591127, -2.48514295, -1.93437463, -1.38360631,\n",
              "        -0.832838  , -0.28206968,  0.26869864,  0.81946696,  1.37023528,\n",
              "         1.9210036 ]),\n",
              " <a list of 10 Patch objects>)"
            ]
          },
          "metadata": {},
          "execution_count": 19
        },
        {
          "output_type": "display_data",
          "data": {
            "text/plain": [
              "<Figure size 432x288 with 1 Axes>"
            ],
            "image/png": "[encoded data removed]"
          },
          "metadata": {
            "needs_background": "light"
          }
        }
      ]
    },
    {
      "cell_type": "code",
      "source": [
        "plt.figure()\n",
        "\n",
        "theta1=np.linspace(0,2*np.pi,100)\n",
        "s1=np.sin(theta1)\n",
        "theta2=np.linspace(0,2*np.pi,100) + np.pi/2\n",
        "s2=np.sin(theta2)\n",
        "\n",
        "plt.subplot(2,3,1)\n",
        "plt.plot(theta1,s1,'.')\n",
        "plt.subplot(2,3,4)\n",
        "plt.plot(theta2,s2,'.')"
      ],
      "metadata": {
        "colab": {
          "base_uri": "https://localhost:8080/",
          "height": 283
        },
        "id": "MvJn3TO2oCiu",
        "outputId": "efebb026-a2a9-4760-9a5e-72f57cd0eddb"
      },
      "execution_count": 26,
      "outputs": [
        {
          "output_type": "execute_result",
          "data": {
            "text/plain": [
              "[<matplotlib.lines.Line2D at 0x7efe09dcd150>]"
            ]
          },
          "metadata": {},
          "execution_count": 26
        },
        {
          "output_type": "display_data",
          "data": {
            "text/plain": [
              "<Figure size 432x288 with 2 Axes>"
            ],
            "image/png": "[encoded data removed]"
          },
          "metadata": {
            "needs_background": "light"
          }
        }
      ]
    },
    {
      "cell_type": "code",
      "source": [
        "np.corrcoef(s1,s2)"
      ],
      "metadata": {
        "colab": {
          "base_uri": "https://localhost:8080/"
        },
        "id": "AhXUNj-tp-dt",
        "outputId": "62849f96-96d3-408b-87c0-62e43a069779"
      },
      "execution_count": 27,
      "outputs": [
        {
          "output_type": "execute_result",
          "data": {
            "text/plain": [
              "array([[1.00000000e+00, 2.41915449e-17],\n",
              "       [2.41915449e-17, 1.00000000e+00]])"
            ]
          },
          "metadata": {},
          "execution_count": 27
        }
      ]
    }
  ]
}